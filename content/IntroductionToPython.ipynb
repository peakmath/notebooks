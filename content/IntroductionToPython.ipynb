{
 "cells": [
  {
   "cell_type": "markdown",
   "metadata": {
    "id": "6oD8w5hT1I2P"
   },
   "source": [
    "# Introduksjon til matematikk i Python - en superkalkulator 🖩🏆\n",
    "\n",
    "Python er programmeringsspråket som kanskje er aller mest brukt til matematikk. Her følger en kjapp introduksjon, og du oppfordres til å endre på alle tallene i koden og se hvordan det fungerer for deg selv. Du kan også legge til ny kode, eller egentlig gjøre hva du vil!"
   ]
  },
  {
   "cell_type": "markdown",
   "metadata": {
    "id": "ceAiJcLo2RqB"
   },
   "source": [
    "Vi kan bruke python omtrent som en vanlig kalkulator:"
   ]
  },
  {
   "cell_type": "code",
   "execution_count": 1,
   "metadata": {
    "colab": {
     "base_uri": "https://localhost:8080/"
    },
    "id": "GDz7Jea31E8Z",
    "outputId": "947dadd6-37fd-4194-d607-8a138a4323dc"
   },
   "outputs": [
    {
     "data": {
      "text/plain": [
       "3713614832"
      ]
     },
     "execution_count": 1,
     "metadata": {},
     "output_type": "execute_result"
    }
   ],
   "source": [
    "146532 + 23525 * 157852"
   ]
  },
  {
   "cell_type": "code",
   "execution_count": 2,
   "metadata": {
    "colab": {
     "base_uri": "https://localhost:8080/"
    },
    "id": "EWT1AoS-5JEa",
    "outputId": "637b5ab2-fcb9-47b0-9032-11d6c79ca8ee"
   },
   "outputs": [
    {
     "data": {
      "text/plain": [
       "26843837564"
      ]
     },
     "execution_count": 2,
     "metadata": {},
     "output_type": "execute_result"
    }
   ],
   "source": [
    "(146532 + 23525) * 157852"
   ]
  },
  {
   "cell_type": "markdown",
   "metadata": {
    "id": "bwCxLRvP2Xjg"
   },
   "source": [
    "Viktig! Opphøying skrives med `**`, tegnet `^` brukes til noe annet i python"
   ]
  },
  {
   "cell_type": "code",
   "execution_count": 3,
   "metadata": {
    "colab": {
     "base_uri": "https://localhost:8080/"
    },
    "id": "_NAOO1-b2Wjx",
    "outputId": "95289762-6015-441c-fd69-e420fdfa55ff"
   },
   "outputs": [
    {
     "data": {
      "text/plain": [
       "6580768025172295206178299293200954004469176933864764793619837018327250966579613600204388757363081624041972832662866996732918752831297696650429524092771286203145366090617604016299486422640663977671905458921804503654951787795523362593589118870978214241259842981279384086798206732836061121694007325035930910581871799454893230775650714599408265784826586052383310700649600232886189156662147431019000979670380302739111343937144304514011969051882424489599687430447604755775942679303794717533101358708979111257559669606890064555955447816721139569155526093535769614915414922564058417203055392510014909675293694768689445135696955237590467252379691326105891612141989801952661325085652169807775809753456773778923686562492889326650597641311163168435165399679435643387294363727354819156432779598116498026414035695267282062598797875913108608992910365203741601217820472455848036486839501178976548962243681859775006303069306964263421166573396523190653990149746253289636973289895277796507525745109858792566319327971223819011676030292467827462635904307149755129730580421918652885433034496851323953516348596828752115523363433043726005747462590645283687948583303337445943900243356415228576168677652262288042209607187500760008813350301483365605164426764953531113036381278751034035122699460504145539595280844702392465445285960419355931926365979638289501109696181459778464063763907736683259208057562738131787628353588591977157284417859029496863598657069155957783725799925160086419979276841977538964424324999765565383936512418132917578013384324779581589091248099798447559657811881297570745088190409283634513648121044796148865303821411661889262606429002129899257856"
      ]
     },
     "execution_count": 3,
     "metadata": {},
     "output_type": "execute_result"
    }
   ],
   "source": [
    "45262 ** 352"
   ]
  },
  {
   "cell_type": "markdown",
   "metadata": {
    "id": "F2I8z4vv2n7E"
   },
   "source": [
    "MEN, Python har veldig mange ekstra muligheter. For eksempel kan man mellomlagre svar og kommentere utregninge, litt som et regneark:"
   ]
  },
  {
   "cell_type": "code",
   "execution_count": 4,
   "metadata": {
    "colab": {
     "base_uri": "https://localhost:8080/"
    },
    "id": "2zCbkHF92g46",
    "outputId": "a0ff4291-268c-480d-fbc9-674d06d25564"
   },
   "outputs": [
    {
     "name": "stdout",
     "output_type": "stream",
     "text": [
      "Pris på all frukten: 531845\n"
     ]
    }
   ],
   "source": [
    "antall_epler = 1942 + 151 + 252 # Antall epler Lise og Beate og Anne vil kjøpe\n",
    "antall_bananer = 3252 + 242 + 1 # Antall bananer Lise og Beate og Anne vil kjøpe\n",
    "antall_ananas = 0 + 15122 + 425 # Antall ananaser Lise og Beate og Anne vil kjøpe\n",
    "\n",
    "pris_eple = 13 # Pris i kroner på et eple\n",
    "pris_banan = 10 # Pris i kroner på en banan\n",
    "pris_ananas = 30 # Pris i kroner på en ananas\n",
    "\n",
    "total_pris = antall_epler * pris_eple + antall_bananer * pris_banan + antall_ananas * pris_ananas # Regn ut total pris\n",
    "\n",
    "print(\"Pris på all frukten:\", total_pris) # Skriv ut under koden teksten \"Pris på all frukten\" etterfulgt av den totale prisen"
   ]
  },
  {
   "cell_type": "markdown",
   "metadata": {
    "id": "3nbayhTT39xy"
   },
   "source": [
    "Men enda viktigere, vi kan lage løkker som gjentar en beregning:"
   ]
  },
  {
   "cell_type": "code",
   "execution_count": 5,
   "metadata": {
    "colab": {
     "base_uri": "https://localhost:8080/"
    },
    "id": "j7Yq1jSE3zdt",
    "outputId": "ea0ec343-b49d-4030-cdde-7b9abefd5378"
   },
   "outputs": [
    {
     "data": {
      "text/plain": [
       "45"
      ]
     },
     "execution_count": 5,
     "metadata": {},
     "output_type": "execute_result"
    }
   ],
   "source": [
    "summen_av_alle_tallene = 0\n",
    "for n in range(1, 10): # Går gjennom tallene 1, 2, 3, 4, 5, 6, 7, 8, 9, men IKKE 10\n",
    "    summen_av_alle_tallene += n # Legg til tallet n til variabelen summen_av_alle_tallene\n",
    "summen_av_alle_tallene"
   ]
  },
  {
   "cell_type": "markdown",
   "metadata": {
    "id": "cf_C1ViI5UBW"
   },
   "source": [
    "Vi kan også jobbe med lister av tall:"
   ]
  },
  {
   "cell_type": "code",
   "execution_count": 6,
   "metadata": {
    "colab": {
     "base_uri": "https://localhost:8080/"
    },
    "id": "exN_JuEG40A9",
    "outputId": "11f5145c-5066-419a-e421-af7429c0f158"
   },
   "outputs": [
    {
     "name": "stdout",
     "output_type": "stream",
     "text": [
      "\n",
      "Mitt første favorittall:\n",
      "-1\n",
      "\n",
      "Mitt andre favorittall:\n",
      "24\n",
      "\n",
      "Mitt tredje favorittall:\n",
      "53\n",
      "\n",
      "Mitt siste favorittall:\n",
      "1729\n",
      "\n",
      "Mitt nest siste favorittall:\n",
      "389\n",
      "\n",
      "Mine favorittall delt på 5:\n",
      "-0.2\n",
      "4.8\n",
      "10.6\n",
      "77.8\n",
      "345.8\n",
      "\n",
      "Summen av mine favorittall:\n",
      "2194\n"
     ]
    }
   ],
   "source": [
    "mine_favoritt_tall = [-1, 24, 53, 389, 1729]\n",
    "\n",
    "print()\n",
    "print(\"Mitt første favorittall:\") # Dette er forvirrende, men lister begynner å telle på 0, så det første tallet finner du med liste[0]\n",
    "print(mine_favoritt_tall[0])\n",
    "\n",
    "print()\n",
    "print(\"Mitt andre favorittall:\") # Og det andre med liste[1]\n",
    "print(mine_favoritt_tall[1])\n",
    "\n",
    "print()\n",
    "print(\"Mitt tredje favorittall:\") # Og det tredje med liste[2]\n",
    "print(mine_favoritt_tall[2])\n",
    "\n",
    "print()\n",
    "print(\"Mitt siste favorittall:\") # Negative tall teller bakfra, så det siste tallet får du med liste[-1]\n",
    "print(mine_favoritt_tall[-1])\n",
    "\n",
    "print()\n",
    "print(\"Mitt nest siste favorittall:\") # Og det nest siste med liste[-2]\n",
    "print(mine_favoritt_tall[-2])\n",
    "\n",
    "print()\n",
    "print(\"Mine favorittall delt på 5:\")\n",
    "for favoritt_tall in mine_favoritt_tall: # Vi kan gjøre noe for hvert tall i listen vår:\n",
    "    print(favoritt_tall / 5)\n",
    "\n",
    "print() # Lag mellomrom i utskriften\n",
    "print(\"Summen av mine favorittall:\")\n",
    "print(sum(mine_favoritt_tall)) # Og vi kan legge sammen alle tallene i en liste\n"
   ]
  },
  {
   "cell_type": "markdown",
   "metadata": {
    "id": "Udh9FX5I6Pvu"
   },
   "source": [
    "Nå kan vi gjøre noe gøy, vi kan regne ut Fibonacci-tallene! For fibonaccitallene begynner du med tallene $1, 1$ , og deretter legger du sammen de to siste tallene og føyer det til på slutten av listen. Dette kan skrives som:\n",
    "\n",
    "$$a_0 = 0$$\n",
    "$$a_1 = 1$$\n",
    "\n",
    "$$a_{n} = a_{n - 1} + a_{n - 2}$$"
   ]
  },
  {
   "cell_type": "code",
   "execution_count": 7,
   "metadata": {
    "colab": {
     "base_uri": "https://localhost:8080/"
    },
    "id": "x-LdLqzE5o6D",
    "outputId": "f8bcbbd2-6a54-4b1b-da04-3a2728a9a074"
   },
   "outputs": [
    {
     "name": "stdout",
     "output_type": "stream",
     "text": [
      "[0, 1, 1, 2, 3, 5, 8, 13, 21, 34, 55, 89, 144, 233, 377, 610, 987, 1597, 2584, 4181, 6765, 10946, 17711, 28657, 46368, 75025, 121393, 196418, 317811, 514229, 832040, 1346269, 2178309, 3524578, 5702887, 9227465, 14930352, 24157817, 39088169, 63245986, 102334155, 165580141, 267914296, 433494437, 701408733, 1134903170, 1836311903, 2971215073, 4807526976, 7778742049, 12586269025, 20365011074, 32951280099, 53316291173, 86267571272, 139583862445, 225851433717, 365435296162, 591286729879, 956722026041, 1548008755920, 2504730781961, 4052739537881, 6557470319842, 10610209857723, 17167680177565, 27777890035288, 44945570212853, 72723460248141, 117669030460994, 190392490709135, 308061521170129, 498454011879264, 806515533049393, 1304969544928657, 2111485077978050, 3416454622906707, 5527939700884757, 8944394323791464, 14472334024676221, 23416728348467685, 37889062373143906, 61305790721611591, 99194853094755497, 160500643816367088, 259695496911122585, 420196140727489673, 679891637638612258, 1100087778366101931, 1779979416004714189, 2880067194370816120, 4660046610375530309, 7540113804746346429, 12200160415121876738, 19740274219868223167, 31940434634990099905, 51680708854858323072, 83621143489848422977, 135301852344706746049, 218922995834555169026]\n"
     ]
    }
   ],
   "source": [
    "mine_fibonacci_tall = [0] * 100 # Lag en 100-element lang liste fylt med `0`\n",
    "\n",
    "mine_fibonacci_tall[0] = 0 # Prøv å endre hvilke tall fibonacci-følgen starter med for å se hvordan det endrer følgen\n",
    "mine_fibonacci_tall[1] = 1\n",
    "\n",
    "for n in range(2, 100):\n",
    "    mine_fibonacci_tall[n] = mine_fibonacci_tall[n - 1] + mine_fibonacci_tall[n - 2] # Kanskje prøv å endre formelen?\n",
    "\n",
    "print(mine_fibonacci_tall)"
   ]
  },
  {
   "cell_type": "markdown",
   "metadata": {
    "id": "VoZbKe6G_Enc"
   },
   "source": [
    "## ⚠️ DANGER ZONE ⚠️ \n",
    "Her vil du finner skumle mønster som er vanskelige å forstå!\n",
    "\n",
    "I tilfelle du endret på koden ovenfor for fibonaccitallene, kjør denne for å få riktig tallfølge i variabelen `mine_fibonacci_tall`."
   ]
  },
  {
   "cell_type": "code",
   "execution_count": 8,
   "metadata": {
    "colab": {
     "base_uri": "https://localhost:8080/"
    },
    "id": "_MuRynLUcea_",
    "outputId": "f8cca4d5-a550-4a5a-b85e-7de6964ab485"
   },
   "outputs": [
    {
     "name": "stdout",
     "output_type": "stream",
     "text": [
      "[0, 1, 1, 2, 3, 5, 8, 13, 21, 34, 55, 89, 144, 233, 377, 610, 987, 1597, 2584, 4181, 6765, 10946, 17711, 28657, 46368, 75025, 121393, 196418, 317811, 514229, 832040, 1346269, 2178309, 3524578, 5702887, 9227465, 14930352, 24157817, 39088169, 63245986, 102334155, 165580141, 267914296, 433494437, 701408733, 1134903170, 1836311903, 2971215073, 4807526976, 7778742049, 12586269025, 20365011074, 32951280099, 53316291173, 86267571272, 139583862445, 225851433717, 365435296162, 591286729879, 956722026041, 1548008755920, 2504730781961, 4052739537881, 6557470319842, 10610209857723, 17167680177565, 27777890035288, 44945570212853, 72723460248141, 117669030460994, 190392490709135, 308061521170129, 498454011879264, 806515533049393, 1304969544928657, 2111485077978050, 3416454622906707, 5527939700884757, 8944394323791464, 14472334024676221, 23416728348467685, 37889062373143906, 61305790721611591, 99194853094755497, 160500643816367088, 259695496911122585, 420196140727489673, 679891637638612258, 1100087778366101931, 1779979416004714189, 2880067194370816120, 4660046610375530309, 7540113804746346429, 12200160415121876738, 19740274219868223167, 31940434634990099905, 51680708854858323072, 83621143489848422977, 135301852344706746049, 218922995834555169026]\n"
     ]
    }
   ],
   "source": [
    "mine_fibonacci_tall = [0] * 100 # Lag en 100-element lang liste fylt med `0`\n",
    "\n",
    "mine_fibonacci_tall[0] = 0 # Prøv å endre hvilke tall fibonacci-følgen starter med for å se hvordan det endrer følgen\n",
    "mine_fibonacci_tall[1] = 1\n",
    "\n",
    "for n in range(2, 100):\n",
    "    mine_fibonacci_tall[n] = mine_fibonacci_tall[n - 1] + mine_fibonacci_tall[n - 2] # Kanskje prøv å endre formelen?\n",
    "\n",
    "print(mine_fibonacci_tall)"
   ]
  },
  {
   "cell_type": "markdown",
   "metadata": {
    "id": "b67hqJ658FYQ"
   },
   "source": [
    "Her er noe interessant:"
   ]
  },
  {
   "cell_type": "code",
   "execution_count": 9,
   "metadata": {
    "colab": {
     "base_uri": "https://localhost:8080/"
    },
    "id": "l2eSqpTA7YtI",
    "outputId": "af82fb4e-3623-4670-987b-2bd7b8787baf"
   },
   "outputs": [
    {
     "name": "stdout",
     "output_type": "stream",
     "text": [
      "Summen av de første 50 fibonacci-tallene: 20365011073\n",
      "Det 51ste fibonacci-tallet: 20365011074\n"
     ]
    }
   ],
   "source": [
    "print(\"Summen av de første 50 fibonacci-tallene:\", sum(mine_fibonacci_tall[0:50]))\n",
    "print(\"Det 51ste fibonacci-tallet:\", mine_fibonacci_tall[51])"
   ]
  },
  {
   "cell_type": "markdown",
   "metadata": {
    "id": "i90lZ-K39mFH"
   },
   "source": [
    "Slik regner vi kvadratrot:"
   ]
  },
  {
   "cell_type": "code",
   "execution_count": 10,
   "metadata": {
    "id": "lcJ-L6eS8G--"
   },
   "outputs": [],
   "source": [
    "import math # Vi må laste inn en pakke som heter `math`, som lar oss regne mer avansert matte."
   ]
  },
  {
   "cell_type": "code",
   "execution_count": 11,
   "metadata": {
    "colab": {
     "base_uri": "https://localhost:8080/"
    },
    "id": "_MgcIax59agh",
    "outputId": "c5b748ac-fbf1-4b59-fc38-e02543de3020"
   },
   "outputs": [
    {
     "data": {
      "text/plain": [
       "9.0"
      ]
     },
     "execution_count": 11,
     "metadata": {},
     "output_type": "execute_result"
    }
   ],
   "source": [
    "math.sqrt(81)"
   ]
  },
  {
   "cell_type": "code",
   "execution_count": 12,
   "metadata": {
    "colab": {
     "base_uri": "https://localhost:8080/"
    },
    "id": "0dEQuLba9phI",
    "outputId": "b7b875d1-0209-446e-9d29-8b8a4ab52718"
   },
   "outputs": [
    {
     "data": {
      "text/plain": [
       "1189.177446809348"
      ]
     },
     "execution_count": 12,
     "metadata": {},
     "output_type": "execute_result"
    }
   ],
   "source": [
    "math.sqrt(1414143)"
   ]
  },
  {
   "cell_type": "markdown",
   "metadata": {
    "id": "D8AVVDuW91fh"
   },
   "source": [
    "Her er noe stilig:"
   ]
  },
  {
   "cell_type": "code",
   "execution_count": 13,
   "metadata": {
    "colab": {
     "base_uri": "https://localhost:8080/"
    },
    "id": "wUgtumGS9ajQ",
    "outputId": "4eaf453f-a258-48aa-b9d6-4efe2c9f12d2"
   },
   "outputs": [
    {
     "name": "stdout",
     "output_type": "stream",
     "text": [
      "Phi1: 1.618033988749895\n",
      "Phi2: -0.6180339887498949\n",
      "Rart utrykk: 12586269025.000021\n",
      "50ende fibonacci tall: 12586269025\n"
     ]
    }
   ],
   "source": [
    "phi1 = 1/2 * (1 + math.sqrt(5)) # Dette tallet kalles ofte \"det gylne snitt\"\n",
    "phi2 = 1/2 * (1 - math.sqrt(5))\n",
    "\n",
    "print(\"Phi1:\", phi1)\n",
    "print(\"Phi2:\", phi2)\n",
    "\n",
    "print(\"Rart utrykk:\", 1/math.sqrt(5) * (phi1 ** 50 - phi2 ** 50)) # Prøv med andre tall enn 50\n",
    "print(\"50ende fibonacci tall:\", mine_fibonacci_tall[50])"
   ]
  },
  {
   "cell_type": "markdown",
   "metadata": {
    "id": "YWDUFtSb-r2i"
   },
   "source": [
    "De er nesten helt like! Hvorfor? (veldig vanskelig)"
   ]
  },
  {
   "cell_type": "markdown",
   "metadata": {
    "id": "Pr5vceh8_2hC"
   },
   "source": [
    "Her er enda et mønster:"
   ]
  },
  {
   "cell_type": "code",
   "execution_count": 14,
   "metadata": {
    "colab": {
     "base_uri": "https://localhost:8080/"
    },
    "id": "KgkldGgu-rPy",
    "outputId": "5de996f9-380d-4dde-bbde-45922d492847"
   },
   "outputs": [
    {
     "name": "stdout",
     "output_type": "stream",
     "text": [
      "Største felles divisor av fibonaccitall, 10 og 15: 5\n",
      "Fibonaccitallet tilhørende største felles divisor, 10 og 15: 5\n",
      "Største felles divisor av fibonaccitall, 42 og 24: 8\n",
      "Fibonaccitallet tilhørende største felles divisor: 42 og 24 8\n"
     ]
    }
   ],
   "source": [
    "print(\"Største felles divisor av fibonaccitall, 10 og 15:\", math.gcd(mine_fibonacci_tall[10], mine_fibonacci_tall[15]))\n",
    "print(\"Fibonaccitallet tilhørende største felles divisor, 10 og 15:\", mine_fibonacci_tall[math.gcd(10, 15)])\n",
    "\n",
    "print(\"Største felles divisor av fibonaccitall, 42 og 24:\", math.gcd(mine_fibonacci_tall[42], mine_fibonacci_tall[24]))\n",
    "print(\"Fibonaccitallet tilhørende største felles divisor: 42 og 24\", mine_fibonacci_tall[math.gcd(42, 24)])"
   ]
  },
  {
   "cell_type": "markdown",
   "metadata": {
    "id": "1qCv5J3mCbfx"
   },
   "source": [
    "Jukselapp for utforskning med math biblioteket:"
   ]
  },
  {
   "cell_type": "code",
   "execution_count": 15,
   "metadata": {
    "colab": {
     "base_uri": "https://localhost:8080/"
    },
    "id": "6QlNTkWJ90xA",
    "outputId": "ee81b240-2dcc-4e91-a859-a3a2e463801c"
   },
   "outputs": [
    {
     "name": "stdout",
     "output_type": "stream",
     "text": [
      "Pi: 3.141592653589793\n",
      "e: 2.718281828459045\n",
      "ekspoensial: 22026.465794806718\n",
      "logartime (base e): 9.999997012915935\n",
      "logartime (base 2): 12.0\n",
      "cos (radian): 0.8660254037844387\n",
      "sin (radian): 0.49999999999999994\n"
     ]
    }
   ],
   "source": [
    "print(\"Pi:\", math.pi)\n",
    "print(\"e:\", math.e)\n",
    "print(\"ekspoensial:\", math.exp(10))\n",
    "print(\"logartime (base e):\", math.log(22026.4))\n",
    "print(\"logartime (base 2):\", math.log(4096, 2))\n",
    "print(\"cos (radian):\", math.cos(math.pi / 6))\n",
    "print(\"sin (radian):\", math.sin(math.pi / 6))"
   ]
  },
  {
   "cell_type": "markdown",
   "metadata": {
    "id": "nSy1TfubEp6q"
   },
   "source": [
    "Modulus kan være interessant:"
   ]
  },
  {
   "cell_type": "code",
   "execution_count": 16,
   "metadata": {
    "colab": {
     "base_uri": "https://localhost:8080/"
    },
    "id": "8WqFEs_UEpTK",
    "outputId": "d66c0dc0-f26a-44a2-d141-af69ec9e8de1"
   },
   "outputs": [
    {
     "data": {
      "text/plain": [
       "8"
      ]
     },
     "execution_count": 16,
     "metadata": {},
     "output_type": "execute_result"
    }
   ],
   "source": [
    "150 % 71"
   ]
  },
  {
   "cell_type": "markdown",
   "metadata": {
    "id": "rmxVk3JXEBPA"
   },
   "source": [
    "Komplekse tall, for de som har hørt om det (python bruker `j` i stedet for `i` av en eller annen grunn):"
   ]
  },
  {
   "cell_type": "code",
   "execution_count": 17,
   "metadata": {
    "colab": {
     "base_uri": "https://localhost:8080/"
    },
    "id": "sX1W647yEDqU",
    "outputId": "b302d065-eae9-415f-d8d6-7b2e20815cfb"
   },
   "outputs": [
    {
     "name": "stdout",
     "output_type": "stream",
     "text": [
      "Komplekse tall: (-26+0j)\n",
      "Eulers formell: (-1+1.2246467991473532e-16j)\n"
     ]
    }
   ],
   "source": [
    "print(\"Komplekse tall:\", complex(1, 5) * complex(-1, 5))\n",
    "print(\"Eulers formell:\", math.e ** (math.pi * complex(0, 1)))"
   ]
  },
  {
   "cell_type": "markdown",
   "metadata": {
    "id": "pMuQBV_YEgPK"
   },
   "source": [
    "Illustrasjon på hvor kraftig kalkulatoren er, her gjør vi ti million gangeoperasjoner og ser at det tar omtrent 2 sekund: (her regner vi ut siste seks siffer i produktet av de første 10 million oddetall)"
   ]
  },
  {
   "cell_type": "code",
   "execution_count": 18,
   "metadata": {
    "colab": {
     "base_uri": "https://localhost:8080/"
    },
    "id": "GAOxDJu6Ef1C",
    "outputId": "ce0804ef-1f77-42eb-8112-729fdd49bdf3"
   },
   "outputs": [
    {
     "name": "stdout",
     "output_type": "stream",
     "text": [
      "CPU times: user 1.72 s, sys: 0 ns, total: 1.72 s\n",
      "Wall time: 1.72 s\n"
     ]
    },
    {
     "data": {
      "text/plain": [
       "890625"
      ]
     },
     "execution_count": 18,
     "metadata": {},
     "output_type": "execute_result"
    }
   ],
   "source": [
    "%%time\n",
    "mitt_tall = 1\n",
    "for n in range(1, 10000000):\n",
    "    mitt_tall = (mitt_tall * (2 * n + 1)) % 1000000\n",
    "mitt_tall"
   ]
  }
 ],
 "metadata": {
  "colab": {
   "collapsed_sections": [],
   "provenance": []
  },
  "kernelspec": {
   "display_name": "Python 3 (ipykernel)",
   "language": "python",
   "name": "python3"
  },
  "language_info": {
   "codemirror_mode": {
    "name": "ipython",
    "version": 3
   },
   "file_extension": ".py",
   "mimetype": "text/x-python",
   "name": "python",
   "nbconvert_exporter": "python",
   "pygments_lexer": "ipython3",
   "version": "3.10.6"
  }
 },
 "nbformat": 4,
 "nbformat_minor": 1
}
